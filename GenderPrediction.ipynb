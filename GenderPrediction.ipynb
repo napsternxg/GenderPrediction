{
 "cells": [
  {
   "cell_type": "code",
   "execution_count": 30,
   "metadata": {
    "collapsed": true
   },
   "outputs": [],
   "source": [
    "%matplotlib inline\n",
    "import pandas as pd\n",
    "import matplotlib.pyplot as plt\n",
    "import seaborn as sns\n",
    "import numpy as np"
   ]
  },
  {
   "cell_type": "code",
   "execution_count": 2,
   "metadata": {
    "collapsed": true
   },
   "outputs": [],
   "source": [
    "df = pd.read_csv(\"data/name_gender.tsv\", sep=\"\\t\", header=None)\n",
    "df.columns = [\"Name\", \"Total\", \"Female\", \"Male\", \"Confidence\"]"
   ]
  },
  {
   "cell_type": "code",
   "execution_count": 278,
   "metadata": {
    "collapsed": true
   },
   "outputs": [],
   "source": [
    "def gender(row, thresh=0.9):\n",
    "    if row[\"Confidence\"] < thresh:\n",
    "        return 'N'\n",
    "    if row[\"Female\"] >= thresh:\n",
    "        return 'F'\n",
    "    if row[\"Male\"] >= thresh:\n",
    "        return 'M'\n",
    "    return 'O'"
   ]
  },
  {
   "cell_type": "code",
   "execution_count": 279,
   "metadata": {
    "collapsed": false
   },
   "outputs": [],
   "source": [
    "df[\"Gender\"] = df.apply(lambda x: gender(x), axis=1)"
   ]
  },
  {
   "cell_type": "code",
   "execution_count": 280,
   "metadata": {
    "collapsed": false
   },
   "outputs": [
    {
     "data": {
      "text/html": [
       "<div style=\"max-height:1000px;max-width:1500px;overflow:auto;\">\n",
       "<table border=\"1\" class=\"dataframe\">\n",
       "  <thead>\n",
       "    <tr style=\"text-align: right;\">\n",
       "      <th></th>\n",
       "      <th>Name</th>\n",
       "      <th>Total</th>\n",
       "      <th>Female</th>\n",
       "      <th>Male</th>\n",
       "      <th>Confidence</th>\n",
       "      <th>Gender</th>\n",
       "    </tr>\n",
       "  </thead>\n",
       "  <tbody>\n",
       "    <tr>\n",
       "      <th>0</th>\n",
       "      <td> Philomenia</td>\n",
       "      <td>  5</td>\n",
       "      <td> 1</td>\n",
       "      <td> 0</td>\n",
       "      <td> 1</td>\n",
       "      <td> F</td>\n",
       "    </tr>\n",
       "    <tr>\n",
       "      <th>1</th>\n",
       "      <td>     Nashay</td>\n",
       "      <td> 22</td>\n",
       "      <td> 1</td>\n",
       "      <td> 0</td>\n",
       "      <td> 1</td>\n",
       "      <td> F</td>\n",
       "    </tr>\n",
       "    <tr>\n",
       "      <th>2</th>\n",
       "      <td>    Tennile</td>\n",
       "      <td>  5</td>\n",
       "      <td> 1</td>\n",
       "      <td> 0</td>\n",
       "      <td> 1</td>\n",
       "      <td> F</td>\n",
       "    </tr>\n",
       "    <tr>\n",
       "      <th>3</th>\n",
       "      <td>    Jeneane</td>\n",
       "      <td>  6</td>\n",
       "      <td> 1</td>\n",
       "      <td> 0</td>\n",
       "      <td> 1</td>\n",
       "      <td> F</td>\n",
       "    </tr>\n",
       "    <tr>\n",
       "      <th>4</th>\n",
       "      <td>    Shahida</td>\n",
       "      <td>  5</td>\n",
       "      <td> 1</td>\n",
       "      <td> 0</td>\n",
       "      <td> 1</td>\n",
       "      <td> F</td>\n",
       "    </tr>\n",
       "  </tbody>\n",
       "</table>\n",
       "</div>"
      ],
      "text/plain": [
       "         Name  Total  Female  Male  Confidence Gender\n",
       "0  Philomenia      5       1     0           1      F\n",
       "1      Nashay     22       1     0           1      F\n",
       "2     Tennile      5       1     0           1      F\n",
       "3     Jeneane      6       1     0           1      F\n",
       "4     Shahida      5       1     0           1      F"
      ]
     },
     "execution_count": 280,
     "metadata": {},
     "output_type": "execute_result"
    }
   ],
   "source": [
    "df.head()"
   ]
  },
  {
   "cell_type": "code",
   "execution_count": 281,
   "metadata": {
    "collapsed": false
   },
   "outputs": [
    {
     "data": {
      "text/html": [
       "<div style=\"max-height:1000px;max-width:1500px;overflow:auto;\">\n",
       "<table border=\"1\" class=\"dataframe\">\n",
       "  <thead>\n",
       "    <tr style=\"text-align: right;\">\n",
       "      <th></th>\n",
       "      <th>Male</th>\n",
       "      <th>Confidence</th>\n",
       "      <th>Total</th>\n",
       "      <th>Name</th>\n",
       "      <th>Female</th>\n",
       "    </tr>\n",
       "    <tr>\n",
       "      <th>Gender</th>\n",
       "      <th></th>\n",
       "      <th></th>\n",
       "      <th></th>\n",
       "      <th></th>\n",
       "      <th></th>\n",
       "    </tr>\n",
       "  </thead>\n",
       "  <tbody>\n",
       "    <tr>\n",
       "      <th>F</th>\n",
       "      <td> 0.000794</td>\n",
       "      <td> 0.999206</td>\n",
       "      <td> 135347171</td>\n",
       "      <td> 17870</td>\n",
       "      <td> 0.999206</td>\n",
       "    </tr>\n",
       "    <tr>\n",
       "      <th>M</th>\n",
       "      <td> 0.998426</td>\n",
       "      <td> 0.998426</td>\n",
       "      <td> 148022945</td>\n",
       "      <td> 11067</td>\n",
       "      <td> 0.001574</td>\n",
       "    </tr>\n",
       "    <tr>\n",
       "      <th>N</th>\n",
       "      <td> 0.502764</td>\n",
       "      <td> 0.718240</td>\n",
       "      <td>  12356949</td>\n",
       "      <td>   891</td>\n",
       "      <td> 0.497236</td>\n",
       "    </tr>\n",
       "  </tbody>\n",
       "</table>\n",
       "</div>"
      ],
      "text/plain": [
       "            Male  Confidence      Total   Name    Female\n",
       "Gender                                                  \n",
       "F       0.000794    0.999206  135347171  17870  0.999206\n",
       "M       0.998426    0.998426  148022945  11067  0.001574\n",
       "N       0.502764    0.718240   12356949    891  0.497236"
      ]
     },
     "execution_count": 281,
     "metadata": {},
     "output_type": "execute_result"
    }
   ],
   "source": [
    "df.groupby(\"Gender\").agg({\"Name\": len, \"Total\": sum, \"Female\": np.mean, \"Male\": np.mean, \"Confidence\": np.mean})"
   ]
  },
  {
   "cell_type": "code",
   "execution_count": 21,
   "metadata": {
    "collapsed": true
   },
   "outputs": [],
   "source": [
    "from sklearn.feature_extraction.text import CountVectorizer\n",
    "from sklearn.linear_model import SGDClassifier"
   ]
  },
  {
   "cell_type": "code",
   "execution_count": 67,
   "metadata": {
    "collapsed": false
   },
   "outputs": [
    {
     "data": {
      "text/html": [
       "<div style=\"max-height:1000px;max-width:1500px;overflow:auto;\">\n",
       "<table border=\"1\" class=\"dataframe\">\n",
       "  <thead>\n",
       "    <tr style=\"text-align: right;\">\n",
       "      <th></th>\n",
       "      <th>Name</th>\n",
       "      <th>Total</th>\n",
       "      <th>Female</th>\n",
       "      <th>Male</th>\n",
       "      <th>Confidence</th>\n",
       "      <th>Gender</th>\n",
       "      <th>Mod_Name</th>\n",
       "    </tr>\n",
       "  </thead>\n",
       "  <tbody>\n",
       "    <tr>\n",
       "      <th>0</th>\n",
       "      <td> Philomenia</td>\n",
       "      <td>  5</td>\n",
       "      <td> 1</td>\n",
       "      <td> 0</td>\n",
       "      <td> 1</td>\n",
       "      <td> F</td>\n",
       "      <td> ^Philomenia$</td>\n",
       "    </tr>\n",
       "    <tr>\n",
       "      <th>1</th>\n",
       "      <td>     Nashay</td>\n",
       "      <td> 22</td>\n",
       "      <td> 1</td>\n",
       "      <td> 0</td>\n",
       "      <td> 1</td>\n",
       "      <td> F</td>\n",
       "      <td>     ^Nashay$</td>\n",
       "    </tr>\n",
       "    <tr>\n",
       "      <th>2</th>\n",
       "      <td>    Tennile</td>\n",
       "      <td>  5</td>\n",
       "      <td> 1</td>\n",
       "      <td> 0</td>\n",
       "      <td> 1</td>\n",
       "      <td> F</td>\n",
       "      <td>    ^Tennile$</td>\n",
       "    </tr>\n",
       "    <tr>\n",
       "      <th>3</th>\n",
       "      <td>    Jeneane</td>\n",
       "      <td>  6</td>\n",
       "      <td> 1</td>\n",
       "      <td> 0</td>\n",
       "      <td> 1</td>\n",
       "      <td> F</td>\n",
       "      <td>    ^Jeneane$</td>\n",
       "    </tr>\n",
       "    <tr>\n",
       "      <th>4</th>\n",
       "      <td>    Shahida</td>\n",
       "      <td>  5</td>\n",
       "      <td> 1</td>\n",
       "      <td> 0</td>\n",
       "      <td> 1</td>\n",
       "      <td> F</td>\n",
       "      <td>    ^Shahida$</td>\n",
       "    </tr>\n",
       "  </tbody>\n",
       "</table>\n",
       "</div>"
      ],
      "text/plain": [
       "         Name  Total  Female  Male  Confidence Gender      Mod_Name\n",
       "0  Philomenia      5       1     0           1      F  ^Philomenia$\n",
       "1      Nashay     22       1     0           1      F      ^Nashay$\n",
       "2     Tennile      5       1     0           1      F     ^Tennile$\n",
       "3     Jeneane      6       1     0           1      F     ^Jeneane$\n",
       "4     Shahida      5       1     0           1      F     ^Shahida$"
      ]
     },
     "execution_count": 67,
     "metadata": {},
     "output_type": "execute_result"
    }
   ],
   "source": [
    "df_fm = df[df[\"Gender\"].isin([\"M\", \"F\"])].copy()\n",
    "df_fm[\"Mod_Name\"] = df_fm[\"Name\"].apply(lambda x: \"^%s$\" % x)\n",
    "df_fm.head()"
   ]
  },
  {
   "cell_type": "code",
   "execution_count": 126,
   "metadata": {
    "collapsed": true
   },
   "outputs": [],
   "source": [
    "features = CountVectorizer(ngram_range=(2, 5), analyzer=\"char\", binary=True)"
   ]
  },
  {
   "cell_type": "code",
   "execution_count": 127,
   "metadata": {
    "collapsed": false
   },
   "outputs": [],
   "source": [
    "X = features.fit_transform(df_fm[\"Mod_Name\"])"
   ]
  },
  {
   "cell_type": "code",
   "execution_count": 128,
   "metadata": {
    "collapsed": false
   },
   "outputs": [
    {
     "data": {
      "text/plain": [
       "((28937, 78194), (28937,))"
      ]
     },
     "execution_count": 128,
     "metadata": {},
     "output_type": "execute_result"
    }
   ],
   "source": [
    "X.shape, df_fm[\"Mod_Name\"].shape"
   ]
  },
  {
   "cell_type": "code",
   "execution_count": 129,
   "metadata": {
    "collapsed": true
   },
   "outputs": [],
   "source": [
    "clf = SGDClassifier(penalty='l1', random_state=1337)"
   ]
  },
  {
   "cell_type": "code",
   "execution_count": 130,
   "metadata": {
    "collapsed": false
   },
   "outputs": [
    {
     "data": {
      "text/plain": [
       "SGDClassifier(alpha=0.0001, average=False, class_weight=None, epsilon=0.1,\n",
       "       eta0=0.0, fit_intercept=True, l1_ratio=0.15,\n",
       "       learning_rate='optimal', loss='hinge', n_iter=5, n_jobs=1,\n",
       "       penalty='l1', power_t=0.5, random_state=1337, shuffle=True,\n",
       "       verbose=0, warm_start=False)"
      ]
     },
     "execution_count": 130,
     "metadata": {},
     "output_type": "execute_result"
    }
   ],
   "source": [
    "clf.fit(X, df_fm[\"Gender\"])"
   ]
  },
  {
   "cell_type": "code",
   "execution_count": 131,
   "metadata": {
    "collapsed": false
   },
   "outputs": [
    {
     "data": {
      "text/plain": [
       "array(['F'], \n",
       "      dtype='|S1')"
      ]
     },
     "execution_count": 131,
     "metadata": {},
     "output_type": "execute_result"
    }
   ],
   "source": [
    "clf.predict(features.transform([\"^Philomenia$\"]))"
   ]
  },
  {
   "cell_type": "code",
   "execution_count": 132,
   "metadata": {
    "collapsed": false
   },
   "outputs": [
    {
     "data": {
      "text/plain": [
       "array([  7.71006487,   7.88253764,   7.9692655 ,   8.31427367,\n",
       "         8.38643986,   9.04355435,   9.24224734,  10.1969067 ,\n",
       "        12.75150489,  12.91774746])"
      ]
     },
     "execution_count": 132,
     "metadata": {},
     "output_type": "execute_result"
    }
   ],
   "source": [
    "clf.coef_[0][clf.coef_[0].argsort()[-10:]]"
   ]
  },
  {
   "cell_type": "code",
   "execution_count": 133,
   "metadata": {
    "collapsed": false
   },
   "outputs": [],
   "source": [
    "feature_names = np.array(features.get_feature_names())"
   ]
  },
  {
   "cell_type": "code",
   "execution_count": 134,
   "metadata": {
    "collapsed": false
   },
   "outputs": [
    {
     "data": {
      "text/html": [
       "<div style=\"max-height:1000px;max-width:1500px;overflow:auto;\">\n",
       "<table border=\"1\" class=\"dataframe\">\n",
       "  <thead>\n",
       "    <tr style=\"text-align: right;\">\n",
       "      <th></th>\n",
       "      <th>sign</th>\n",
       "      <th>strength</th>\n",
       "      <th>weight</th>\n",
       "    </tr>\n",
       "  </thead>\n",
       "  <tbody>\n",
       "    <tr>\n",
       "      <th>^lil</th>\n",
       "      <td> False</td>\n",
       "      <td>  56.786945</td>\n",
       "      <td> -7.535711</td>\n",
       "    </tr>\n",
       "    <tr>\n",
       "      <th>kade$</th>\n",
       "      <td>  True</td>\n",
       "      <td>  58.911442</td>\n",
       "      <td>  7.675379</td>\n",
       "    </tr>\n",
       "    <tr>\n",
       "      <th>^vard</th>\n",
       "      <td>  True</td>\n",
       "      <td>  59.445100</td>\n",
       "      <td>  7.710065</td>\n",
       "    </tr>\n",
       "    <tr>\n",
       "      <th>vard</th>\n",
       "      <td>  True</td>\n",
       "      <td>  59.445100</td>\n",
       "      <td>  7.710065</td>\n",
       "    </tr>\n",
       "    <tr>\n",
       "      <th>ah$</th>\n",
       "      <td> False</td>\n",
       "      <td>  59.937593</td>\n",
       "      <td> -7.741937</td>\n",
       "    </tr>\n",
       "    <tr>\n",
       "      <th>k$</th>\n",
       "      <td>  True</td>\n",
       "      <td>  62.134400</td>\n",
       "      <td>  7.882538</td>\n",
       "    </tr>\n",
       "    <tr>\n",
       "      <th>uda$</th>\n",
       "      <td>  True</td>\n",
       "      <td>  63.509193</td>\n",
       "      <td>  7.969265</td>\n",
       "    </tr>\n",
       "    <tr>\n",
       "      <th>ilin</th>\n",
       "      <td> False</td>\n",
       "      <td>  63.988669</td>\n",
       "      <td> -7.999292</td>\n",
       "    </tr>\n",
       "    <tr>\n",
       "      <th>edm</th>\n",
       "      <td>  True</td>\n",
       "      <td>  69.127147</td>\n",
       "      <td>  8.314274</td>\n",
       "    </tr>\n",
       "    <tr>\n",
       "      <th>dm</th>\n",
       "      <td>  True</td>\n",
       "      <td>  70.332374</td>\n",
       "      <td>  8.386440</td>\n",
       "    </tr>\n",
       "    <tr>\n",
       "      <th>sha$</th>\n",
       "      <td> False</td>\n",
       "      <td>  75.243130</td>\n",
       "      <td> -8.674280</td>\n",
       "    </tr>\n",
       "    <tr>\n",
       "      <th>^amor</th>\n",
       "      <td> False</td>\n",
       "      <td>  80.702937</td>\n",
       "      <td> -8.983481</td>\n",
       "    </tr>\n",
       "    <tr>\n",
       "      <th>den$</th>\n",
       "      <td>  True</td>\n",
       "      <td>  81.785875</td>\n",
       "      <td>  9.043554</td>\n",
       "    </tr>\n",
       "    <tr>\n",
       "      <th>ino$</th>\n",
       "      <td>  True</td>\n",
       "      <td>  85.419136</td>\n",
       "      <td>  9.242247</td>\n",
       "    </tr>\n",
       "    <tr>\n",
       "      <th>f$</th>\n",
       "      <td>  True</td>\n",
       "      <td> 103.976906</td>\n",
       "      <td> 10.196907</td>\n",
       "    </tr>\n",
       "    <tr>\n",
       "      <th>ti$</th>\n",
       "      <td> False</td>\n",
       "      <td> 104.236814</td>\n",
       "      <td>-10.209643</td>\n",
       "    </tr>\n",
       "    <tr>\n",
       "      <th>rah$</th>\n",
       "      <td> False</td>\n",
       "      <td> 112.112151</td>\n",
       "      <td>-10.588303</td>\n",
       "    </tr>\n",
       "    <tr>\n",
       "      <th>io$</th>\n",
       "      <td>  True</td>\n",
       "      <td> 162.600877</td>\n",
       "      <td> 12.751505</td>\n",
       "    </tr>\n",
       "    <tr>\n",
       "      <th>ko$</th>\n",
       "      <td> False</td>\n",
       "      <td> 164.727966</td>\n",
       "      <td>-12.834639</td>\n",
       "    </tr>\n",
       "    <tr>\n",
       "      <th>uda</th>\n",
       "      <td>  True</td>\n",
       "      <td> 166.868199</td>\n",
       "      <td> 12.917747</td>\n",
       "    </tr>\n",
       "  </tbody>\n",
       "</table>\n",
       "</div>"
      ],
      "text/plain": [
       "        sign    strength     weight\n",
       "^lil   False   56.786945  -7.535711\n",
       "kade$   True   58.911442   7.675379\n",
       "^vard   True   59.445100   7.710065\n",
       "vard    True   59.445100   7.710065\n",
       "ah$    False   59.937593  -7.741937\n",
       "k$      True   62.134400   7.882538\n",
       "uda$    True   63.509193   7.969265\n",
       "ilin   False   63.988669  -7.999292\n",
       "edm     True   69.127147   8.314274\n",
       "dm      True   70.332374   8.386440\n",
       "sha$   False   75.243130  -8.674280\n",
       "^amor  False   80.702937  -8.983481\n",
       "den$    True   81.785875   9.043554\n",
       "ino$    True   85.419136   9.242247\n",
       "f$      True  103.976906  10.196907\n",
       "ti$    False  104.236814 -10.209643\n",
       "rah$   False  112.112151 -10.588303\n",
       "io$     True  162.600877  12.751505\n",
       "ko$    False  164.727966 -12.834639\n",
       "uda     True  166.868199  12.917747"
      ]
     },
     "execution_count": 134,
     "metadata": {},
     "output_type": "execute_result"
    }
   ],
   "source": [
    "feature_strength = (clf.coef_[0]**2)\n",
    "feature_class = (clf.coef_[0] > 0)\n",
    "\n",
    "feature_names[(feature_class)]\n",
    "\n",
    "df_features = pd.DataFrame(data={\"strength\": feature_strength, \n",
    "                                \"sign\": feature_class, \n",
    "                                \"weight\": clf.coef_[0]}, index=feature_names)\n",
    "df_features.sort(\"strength\").tail(20)"
   ]
  },
  {
   "cell_type": "code",
   "execution_count": 136,
   "metadata": {
    "collapsed": false
   },
   "outputs": [
    {
     "data": {
      "text/html": [
       "<div style=\"max-height:1000px;max-width:1500px;overflow:auto;\">\n",
       "<table border=\"1\" class=\"dataframe\">\n",
       "  <thead>\n",
       "    <tr style=\"text-align: right;\">\n",
       "      <th></th>\n",
       "      <th>Name</th>\n",
       "      <th>Total</th>\n",
       "      <th>Female</th>\n",
       "      <th>Male</th>\n",
       "      <th>Confidence</th>\n",
       "      <th>Gender</th>\n",
       "      <th>Mod_Name</th>\n",
       "    </tr>\n",
       "  </thead>\n",
       "  <tbody>\n",
       "    <tr>\n",
       "      <th>352  </th>\n",
       "      <td>      Yuda</td>\n",
       "      <td>     5</td>\n",
       "      <td> 0.000000</td>\n",
       "      <td> 1.000000</td>\n",
       "      <td> 1.000000</td>\n",
       "      <td> M</td>\n",
       "      <td>      ^Yuda$</td>\n",
       "    </tr>\n",
       "    <tr>\n",
       "      <th>4290 </th>\n",
       "      <td>    Yudany</td>\n",
       "      <td>     5</td>\n",
       "      <td> 1.000000</td>\n",
       "      <td> 0.000000</td>\n",
       "      <td> 1.000000</td>\n",
       "      <td> F</td>\n",
       "      <td>    ^Yudany$</td>\n",
       "    </tr>\n",
       "    <tr>\n",
       "      <th>5568 </th>\n",
       "      <td> Gaudalupe</td>\n",
       "      <td>     5</td>\n",
       "      <td> 1.000000</td>\n",
       "      <td> 0.000000</td>\n",
       "      <td> 1.000000</td>\n",
       "      <td> F</td>\n",
       "      <td> ^Gaudalupe$</td>\n",
       "    </tr>\n",
       "    <tr>\n",
       "      <th>7213 </th>\n",
       "      <td>      Auda</td>\n",
       "      <td>     5</td>\n",
       "      <td> 1.000000</td>\n",
       "      <td> 0.000000</td>\n",
       "      <td> 1.000000</td>\n",
       "      <td> F</td>\n",
       "      <td>      ^Auda$</td>\n",
       "    </tr>\n",
       "    <tr>\n",
       "      <th>7554 </th>\n",
       "      <td>  Shenouda</td>\n",
       "      <td>    16</td>\n",
       "      <td> 0.000000</td>\n",
       "      <td> 1.000000</td>\n",
       "      <td> 1.000000</td>\n",
       "      <td> M</td>\n",
       "      <td>  ^Shenouda$</td>\n",
       "    </tr>\n",
       "    <tr>\n",
       "      <th>9084 </th>\n",
       "      <td>    Daouda</td>\n",
       "      <td>    16</td>\n",
       "      <td> 0.000000</td>\n",
       "      <td> 1.000000</td>\n",
       "      <td> 1.000000</td>\n",
       "      <td> M</td>\n",
       "      <td>    ^Daouda$</td>\n",
       "    </tr>\n",
       "    <tr>\n",
       "      <th>10111</th>\n",
       "      <td>     Judas</td>\n",
       "      <td>    57</td>\n",
       "      <td> 0.000000</td>\n",
       "      <td> 1.000000</td>\n",
       "      <td> 1.000000</td>\n",
       "      <td> M</td>\n",
       "      <td>     ^Judas$</td>\n",
       "    </tr>\n",
       "    <tr>\n",
       "      <th>11131</th>\n",
       "      <td>      Suda</td>\n",
       "      <td>     5</td>\n",
       "      <td> 1.000000</td>\n",
       "      <td> 0.000000</td>\n",
       "      <td> 1.000000</td>\n",
       "      <td> F</td>\n",
       "      <td>      ^Suda$</td>\n",
       "    </tr>\n",
       "    <tr>\n",
       "      <th>14045</th>\n",
       "      <td>  Gudalupe</td>\n",
       "      <td>     5</td>\n",
       "      <td> 1.000000</td>\n",
       "      <td> 0.000000</td>\n",
       "      <td> 1.000000</td>\n",
       "      <td> F</td>\n",
       "      <td>  ^Gudalupe$</td>\n",
       "    </tr>\n",
       "    <tr>\n",
       "      <th>15536</th>\n",
       "      <td>     Vauda</td>\n",
       "      <td>     5</td>\n",
       "      <td> 1.000000</td>\n",
       "      <td> 0.000000</td>\n",
       "      <td> 1.000000</td>\n",
       "      <td> F</td>\n",
       "      <td>     ^Vauda$</td>\n",
       "    </tr>\n",
       "    <tr>\n",
       "      <th>16180</th>\n",
       "      <td>   Yehudah</td>\n",
       "      <td>   335</td>\n",
       "      <td> 0.000000</td>\n",
       "      <td> 1.000000</td>\n",
       "      <td> 1.000000</td>\n",
       "      <td> M</td>\n",
       "      <td>   ^Yehudah$</td>\n",
       "    </tr>\n",
       "    <tr>\n",
       "      <th>21427</th>\n",
       "      <td>    Yehuda</td>\n",
       "      <td>  3826</td>\n",
       "      <td> 0.000000</td>\n",
       "      <td> 1.000000</td>\n",
       "      <td> 1.000000</td>\n",
       "      <td> M</td>\n",
       "      <td>    ^Yehuda$</td>\n",
       "    </tr>\n",
       "    <tr>\n",
       "      <th>22034</th>\n",
       "      <td>      Huda</td>\n",
       "      <td>   277</td>\n",
       "      <td> 1.000000</td>\n",
       "      <td> 0.000000</td>\n",
       "      <td> 1.000000</td>\n",
       "      <td> F</td>\n",
       "      <td>      ^Huda$</td>\n",
       "    </tr>\n",
       "    <tr>\n",
       "      <th>24900</th>\n",
       "      <td>      Juda</td>\n",
       "      <td>    31</td>\n",
       "      <td> 0.000000</td>\n",
       "      <td> 1.000000</td>\n",
       "      <td> 1.000000</td>\n",
       "      <td> M</td>\n",
       "      <td>      ^Juda$</td>\n",
       "    </tr>\n",
       "    <tr>\n",
       "      <th>26695</th>\n",
       "      <td>    Sudais</td>\n",
       "      <td>    10</td>\n",
       "      <td> 0.000000</td>\n",
       "      <td> 1.000000</td>\n",
       "      <td> 1.000000</td>\n",
       "      <td> M</td>\n",
       "      <td>    ^Sudais$</td>\n",
       "    </tr>\n",
       "    <tr>\n",
       "      <th>27935</th>\n",
       "      <td>     Judah</td>\n",
       "      <td> 10293</td>\n",
       "      <td> 0.002429</td>\n",
       "      <td> 0.997571</td>\n",
       "      <td> 0.997571</td>\n",
       "      <td> M</td>\n",
       "      <td>     ^Judah$</td>\n",
       "    </tr>\n",
       "  </tbody>\n",
       "</table>\n",
       "</div>"
      ],
      "text/plain": [
       "            Name  Total    Female      Male  Confidence Gender     Mod_Name\n",
       "352         Yuda      5  0.000000  1.000000    1.000000      M       ^Yuda$\n",
       "4290      Yudany      5  1.000000  0.000000    1.000000      F     ^Yudany$\n",
       "5568   Gaudalupe      5  1.000000  0.000000    1.000000      F  ^Gaudalupe$\n",
       "7213        Auda      5  1.000000  0.000000    1.000000      F       ^Auda$\n",
       "7554    Shenouda     16  0.000000  1.000000    1.000000      M   ^Shenouda$\n",
       "9084      Daouda     16  0.000000  1.000000    1.000000      M     ^Daouda$\n",
       "10111      Judas     57  0.000000  1.000000    1.000000      M      ^Judas$\n",
       "11131       Suda      5  1.000000  0.000000    1.000000      F       ^Suda$\n",
       "14045   Gudalupe      5  1.000000  0.000000    1.000000      F   ^Gudalupe$\n",
       "15536      Vauda      5  1.000000  0.000000    1.000000      F      ^Vauda$\n",
       "16180    Yehudah    335  0.000000  1.000000    1.000000      M    ^Yehudah$\n",
       "21427     Yehuda   3826  0.000000  1.000000    1.000000      M     ^Yehuda$\n",
       "22034       Huda    277  1.000000  0.000000    1.000000      F       ^Huda$\n",
       "24900       Juda     31  0.000000  1.000000    1.000000      M       ^Juda$\n",
       "26695     Sudais     10  0.000000  1.000000    1.000000      M     ^Sudais$\n",
       "27935      Judah  10293  0.002429  0.997571    0.997571      M      ^Judah$"
      ]
     },
     "execution_count": 136,
     "metadata": {},
     "output_type": "execute_result"
    }
   ],
   "source": [
    "df_fm[df_fm.Name.str.contains(\"uda\")]"
   ]
  },
  {
   "cell_type": "code",
   "execution_count": 138,
   "metadata": {
    "collapsed": false
   },
   "outputs": [
    {
     "data": {
      "text/plain": [
       "0.91211943186923317"
      ]
     },
     "execution_count": 138,
     "metadata": {},
     "output_type": "execute_result"
    }
   ],
   "source": [
    "clf.score(X, df_fm[\"Gender\"])"
   ]
  },
  {
   "cell_type": "code",
   "execution_count": 146,
   "metadata": {
    "collapsed": true
   },
   "outputs": [],
   "source": [
    "from sklearn.grid_search import GridSearchCV\n",
    "from time import time"
   ]
  },
  {
   "cell_type": "code",
   "execution_count": 164,
   "metadata": {
    "collapsed": false
   },
   "outputs": [
    {
     "name": "stdout",
     "output_type": "stream",
     "text": [
      "Performing grid search...\n",
      "parameters:\n",
      "{'penalty': ('l1', 'l2', 'elasticnet'), 'alpha': array([  1.00000000e-03,   1.58489319e-04,   2.51188643e-05,\n",
      "         3.98107171e-06,   6.30957344e-07,   1.00000000e-07]), 'n_iter': array([ 100.,  150.,  200.,  250.,  300.])}\n",
      "Fitting 3 folds for each of 90 candidates, totalling 270 fits\n"
     ]
    },
    {
     "name": "stderr",
     "output_type": "stream",
     "text": [
      "[Parallel(n_jobs=-1)]: Done   1 jobs       | elapsed:    1.5s\n",
      "[Parallel(n_jobs=-1)]: Done  50 jobs       | elapsed:    7.1s\n",
      "[Parallel(n_jobs=-1)]: Done 200 jobs       | elapsed:   35.9s\n",
      "[Parallel(n_jobs=-1)]: Done 224 out of 270 | elapsed:   41.2s remaining:    8.5s\n",
      "[Parallel(n_jobs=-1)]: Done 270 out of 270 | elapsed:   47.0s finished\n"
     ]
    },
    {
     "name": "stdout",
     "output_type": "stream",
     "text": [
      "done in 49.500s\n",
      "()\n",
      "Best score: 0.899\n",
      "Best parameters set:\n",
      "\talpha: 0.00015848931924611142\n",
      "\tn_iter: 200.0\n",
      "\tpenalty: 'elasticnet'\n"
     ]
    }
   ],
   "source": [
    "parameters = {\n",
    "    'alpha': np.logspace(-3, -7, num=6),\n",
    "    'penalty': ('l1', 'l2', 'elasticnet'),\n",
    "    'n_iter': np.linspace(100, 300, num=5),\n",
    "}\n",
    "\n",
    "grid_search = GridSearchCV(clf, parameters, n_jobs=-1, verbose=1)\n",
    "print(\"Performing grid search...\")\n",
    "print(\"parameters:\")\n",
    "print(parameters)\n",
    "t0 = time()\n",
    "grid_search.fit(X, df_fm[\"Gender\"])\n",
    "print(\"done in %0.3fs\" % (time() - t0))\n",
    "print()\n",
    "\n",
    "print(\"Best score: %0.3f\" % grid_search.best_score_)\n",
    "print(\"Best parameters set:\")\n",
    "best_parameters = grid_search.best_estimator_.get_params()\n",
    "for param_name in sorted(parameters.keys()):\n",
    "    print(\"\\t%s: %r\" % (param_name, best_parameters[param_name]))"
   ]
  },
  {
   "cell_type": "code",
   "execution_count": 165,
   "metadata": {
    "collapsed": true
   },
   "outputs": [],
   "source": [
    "clf = SGDClassifier(penalty='elasticnet', alpha=1e-4, n_iter=200, random_state=1337)"
   ]
  },
  {
   "cell_type": "code",
   "execution_count": 166,
   "metadata": {
    "collapsed": false
   },
   "outputs": [
    {
     "data": {
      "text/plain": [
       "0.98044026678646712"
      ]
     },
     "execution_count": 166,
     "metadata": {},
     "output_type": "execute_result"
    }
   ],
   "source": [
    "clf.fit(X, df_fm[\"Gender\"])\n",
    "clf.score(X, df_fm[\"Gender\"])"
   ]
  },
  {
   "cell_type": "code",
   "execution_count": 157,
   "metadata": {
    "collapsed": true
   },
   "outputs": [],
   "source": [
    "from sklearn.pipeline import FeatureUnion\n",
    "from sklearn.base import BaseEstimator\n",
    "from sklearn.preprocessing import LabelBinarizer"
   ]
  },
  {
   "cell_type": "code",
   "execution_count": 161,
   "metadata": {
    "collapsed": false
   },
   "outputs": [],
   "source": [
    "class LastVowel(BaseEstimator):\n",
    "    def fit(self, X, y=None):\n",
    "        return self\n",
    "\n",
    "    def transform(self, X):\n",
    "        return X.apply(lambda x: x.lower()[-2] in \"aieou\")[:, np.newaxis]\n",
    "\n",
    "is_vowel = LastVowel()\n",
    "feature_all = FeatureUnion([(\"ngram\", features), (\"is_vowel\", is_vowel)])"
   ]
  },
  {
   "cell_type": "code",
   "execution_count": 162,
   "metadata": {
    "collapsed": false
   },
   "outputs": [],
   "source": [
    "X = feature_all.fit_transform(df_fm[\"Mod_Name\"])"
   ]
  },
  {
   "cell_type": "code",
   "execution_count": 211,
   "metadata": {
    "collapsed": true
   },
   "outputs": [],
   "source": [
    "class LabelVectors(BaseEstimator):\n",
    "    def fit(self, X, y=None):\n",
    "        self.classes = np.unique(X)\n",
    "        return self\n",
    "    def transform(self, X):\n",
    "        print X.shape[0], self.classes.shape[0]\n",
    "        X_t = np.zeros((X.shape[0], self.classes.shape[0]))\n",
    "        for i, c in enumerate(self.classes):\n",
    "            X_t[:,i] = 1 & (X == c)\n",
    "        return X_t\n",
    "    def fit_transform(self, X, y=None):\n",
    "        self.fit(X)\n",
    "        return self.transform(X)"
   ]
  },
  {
   "cell_type": "code",
   "execution_count": 192,
   "metadata": {
    "collapsed": false
   },
   "outputs": [
    {
     "data": {
      "text/plain": [
       "(28937, 78195)"
      ]
     },
     "execution_count": 192,
     "metadata": {},
     "output_type": "execute_result"
    }
   ],
   "source": [
    "X.toarray().shape"
   ]
  },
  {
   "cell_type": "code",
   "execution_count": 267,
   "metadata": {
    "collapsed": false
   },
   "outputs": [
    {
     "data": {
      "text/plain": [
       "(array([[-1],\n",
       "        [-1],\n",
       "        [-1],\n",
       "        [-1],\n",
       "        [-1],\n",
       "        [-1],\n",
       "        [-1],\n",
       "        [-1],\n",
       "        [-1],\n",
       "        [-1]]), array([[-1],\n",
       "        [ 1],\n",
       "        [ 1],\n",
       "        [ 1],\n",
       "        [ 1],\n",
       "        [ 1],\n",
       "        [ 1],\n",
       "        [ 1],\n",
       "        [ 1],\n",
       "        [-1]]), (28937,\n",
       "  1), array(['F', 'M', 'M', 'M', 'M', 'M', 'M', 'M', 'M', 'F'], dtype=object))"
      ]
     },
     "execution_count": 267,
     "metadata": {},
     "output_type": "execute_result"
    }
   ],
   "source": [
    "# labels = LabelVectors()\n",
    "labels = LabelBinarizer()\n",
    "y = labels.fit_transform(df_fm[\"Gender\"])\n",
    "y[y[:,0] == 0] = -1\n",
    "y[:10], y[-10:], y.shape, df_fm[\"Gender\"].values[-10:]"
   ]
  },
  {
   "cell_type": "code",
   "execution_count": 246,
   "metadata": {
    "collapsed": true
   },
   "outputs": [],
   "source": [
    "from keras.models import Sequential\n",
    "from keras.layers.core import Dense, Activation\n",
    "from keras.regularizers import l2, activity_l2\n"
   ]
  },
  {
   "cell_type": "code",
   "execution_count": 268,
   "metadata": {
    "collapsed": false
   },
   "outputs": [],
   "source": [
    "model = Sequential()\n",
    "model.add(Dense(input_dim=X.shape[1], output_dim=100, init=\"glorot_uniform\", W_regularizer=l2(0.01)))\n",
    "model.add(Activation(\"relu\"))\n",
    "model.add(Dense(input_dim=100, output_dim=y.shape[1], init=\"glorot_uniform\", W_regularizer=l2(0.01)))\n",
    "model.add(Activation(\"tanh\"))"
   ]
  },
  {
   "cell_type": "code",
   "execution_count": 269,
   "metadata": {
    "collapsed": true
   },
   "outputs": [],
   "source": [
    "model.compile(loss='hinge', optimizer='rmsprop')"
   ]
  },
  {
   "cell_type": "code",
   "execution_count": 270,
   "metadata": {
    "collapsed": false,
    "scrolled": true
   },
   "outputs": [
    {
     "name": "stdout",
     "output_type": "stream",
     "text": [
      "Train on 23149 samples, validate on 5788 samples\n",
      "Epoch 0\n",
      "23149/23149 [==============================] - 87s - loss: 0.7297 - acc: 1.0000 - val_loss: 0.4410 - val_acc: 1.0000\n",
      "Epoch 1\n",
      "23149/23149 [==============================] - 85s - loss: 0.4553 - acc: 1.0000 - val_loss: 0.4284 - val_acc: 1.0000\n",
      "Epoch 2\n",
      "23149/23149 [==============================] - 85s - loss: 0.4534 - acc: 1.0000 - val_loss: 0.4294 - val_acc: 1.0000\n",
      "Epoch 3\n",
      "23149/23149 [==============================] - 85s - loss: 0.4525 - acc: 1.0000 - val_loss: 0.4293 - val_acc: 1.0000\n",
      "Epoch 4\n",
      "23149/23149 [==============================] - 86s - loss: 0.4521 - acc: 1.0000 - val_loss: 0.4335 - val_acc: 1.0000\n",
      "Epoch 5\n",
      "23149/23149 [==============================] - 86s - loss: 0.4523 - acc: 1.0000 - val_loss: 0.4253 - val_acc: 1.0000\n",
      "Epoch 6\n",
      "23149/23149 [==============================] - 87s - loss: 0.4519 - acc: 1.0000 - val_loss: 0.4322 - val_acc: 1.0000\n",
      "Epoch 7\n",
      "23149/23149 [==============================] - 88s - loss: 0.4523 - acc: 1.0000 - val_loss: 0.4292 - val_acc: 1.0000\n",
      "Epoch 8\n",
      "23149/23149 [==============================] - 87s - loss: 0.4515 - acc: 1.0000 - val_loss: 0.4326 - val_acc: 1.0000\n",
      "Epoch 9\n",
      "23149/23149 [==============================] - 88s - loss: 0.4516 - acc: 1.0000 - val_loss: 0.4235 - val_acc: 1.0000\n"
     ]
    },
    {
     "data": {
      "text/plain": [
       "<keras.callbacks.History at 0x7f27b7df02d0>"
      ]
     },
     "execution_count": 270,
     "metadata": {},
     "output_type": "execute_result"
    }
   ],
   "source": [
    "model.fit(X.toarray(), y, nb_epoch=10, batch_size=100, shuffle=True, validation_split=0.2, show_accuracy=True)"
   ]
  },
  {
   "cell_type": "code",
   "execution_count": 272,
   "metadata": {
    "collapsed": false
   },
   "outputs": [
    {
     "name": "stdout",
     "output_type": "stream",
     "text": [
      "10/10 [==============================] - 0s\n",
      "10/10 [==============================] - 0s\n"
     ]
    },
    {
     "data": {
      "text/plain": [
       "[1.040812269458707, 1.0]"
      ]
     },
     "execution_count": 272,
     "metadata": {},
     "output_type": "execute_result"
    }
   ],
   "source": [
    "model.predict_classes(X[-10:,:].toarray())\n",
    "model.evaluate(X[-10:,:].toarray(), y[-10:,:], show_accuracy=True)"
   ]
  },
  {
   "cell_type": "code",
   "execution_count": 241,
   "metadata": {
    "collapsed": false
   },
   "outputs": [
    {
     "data": {
      "text/plain": [
       "28927    F\n",
       "28928    M\n",
       "28929    M\n",
       "28930    M\n",
       "28931    M\n",
       "28932    M\n",
       "28933    M\n",
       "28934    M\n",
       "28935    M\n",
       "28936    F\n",
       "Name: Gender, dtype: object"
      ]
     },
     "execution_count": 241,
     "metadata": {},
     "output_type": "execute_result"
    }
   ],
   "source": [
    "df_fm[\"Gender\"][-10:]"
   ]
  },
  {
   "cell_type": "code",
   "execution_count": 242,
   "metadata": {
    "collapsed": false
   },
   "outputs": [
    {
     "name": "stdout",
     "output_type": "stream",
     "text": [
      "28937/28937 [==============================] - 24s    \n"
     ]
    },
    {
     "data": {
      "text/plain": [
       "[0.10798193781124817, 0.97297577495939458]"
      ]
     },
     "execution_count": 242,
     "metadata": {},
     "output_type": "execute_result"
    }
   ],
   "source": [
    "model.evaluate(X.toarray(), y, batch_size=100, show_accuracy=True)"
   ]
  },
  {
   "cell_type": "code",
   "execution_count": 274,
   "metadata": {
    "collapsed": false
   },
   "outputs": [
    {
     "data": {
      "text/html": [
       "<div style=\"max-height:1000px;max-width:1500px;overflow:auto;\">\n",
       "<table border=\"1\" class=\"dataframe\">\n",
       "  <thead>\n",
       "    <tr style=\"text-align: right;\">\n",
       "      <th></th>\n",
       "      <th>Name</th>\n",
       "      <th>Total</th>\n",
       "      <th>Female</th>\n",
       "      <th>Male</th>\n",
       "      <th>Confidence</th>\n",
       "      <th>Gender</th>\n",
       "    </tr>\n",
       "  </thead>\n",
       "  <tbody>\n",
       "    <tr>\n",
       "      <th>28937</th>\n",
       "      <td>   Sawyer</td>\n",
       "      <td> 25745</td>\n",
       "      <td> 0.100058</td>\n",
       "      <td> 0.899942</td>\n",
       "      <td> 0.899942</td>\n",
       "      <td> N</td>\n",
       "    </tr>\n",
       "    <tr>\n",
       "      <th>28938</th>\n",
       "      <td>   Nikita</td>\n",
       "      <td>  8744</td>\n",
       "      <td> 0.899931</td>\n",
       "      <td> 0.100069</td>\n",
       "      <td> 0.899931</td>\n",
       "      <td> N</td>\n",
       "    </tr>\n",
       "    <tr>\n",
       "      <th>28939</th>\n",
       "      <td>   Caelan</td>\n",
       "      <td>   714</td>\n",
       "      <td> 0.100840</td>\n",
       "      <td> 0.899160</td>\n",
       "      <td> 0.899160</td>\n",
       "      <td> N</td>\n",
       "    </tr>\n",
       "    <tr>\n",
       "      <th>28940</th>\n",
       "      <td> Sheridan</td>\n",
       "      <td>  2823</td>\n",
       "      <td> 0.899044</td>\n",
       "      <td> 0.100956</td>\n",
       "      <td> 0.899044</td>\n",
       "      <td> N</td>\n",
       "    </tr>\n",
       "    <tr>\n",
       "      <th>28941</th>\n",
       "      <td>    Ottie</td>\n",
       "      <td>    99</td>\n",
       "      <td> 0.898990</td>\n",
       "      <td> 0.101010</td>\n",
       "      <td> 0.898990</td>\n",
       "      <td> N</td>\n",
       "    </tr>\n",
       "  </tbody>\n",
       "</table>\n",
       "</div>"
      ],
      "text/plain": [
       "           Name  Total    Female      Male  Confidence Gender\n",
       "28937    Sawyer  25745  0.100058  0.899942    0.899942      N\n",
       "28938    Nikita   8744  0.899931  0.100069    0.899931      N\n",
       "28939    Caelan    714  0.100840  0.899160    0.899160      N\n",
       "28940  Sheridan   2823  0.899044  0.100956    0.899044      N\n",
       "28941     Ottie     99  0.898990  0.101010    0.898990      N"
      ]
     },
     "execution_count": 274,
     "metadata": {},
     "output_type": "execute_result"
    }
   ],
   "source": [
    "df[df[\"Confidence\"] < 0.9].head()"
   ]
  },
  {
   "cell_type": "code",
   "execution_count": 290,
   "metadata": {
    "collapsed": false
   },
   "outputs": [],
   "source": [
    "df_test = df[(df[\"Confidence\"] < 0.9) & (df[\"Confidence\"] > 0.85)].copy()\n",
    "df_test[\"Mod_Name\"] = df_test[\"Name\"].apply(lambda k: \"^%s$\" % k)\n",
    "df_test[\"Gender\"] = df_test.apply(lambda x: gender(x, thresh=0.85), axis=1)"
   ]
  },
  {
   "cell_type": "code",
   "execution_count": 294,
   "metadata": {
    "collapsed": false
   },
   "outputs": [
    {
     "data": {
      "text/html": [
       "<div style=\"max-height:1000px;max-width:1500px;overflow:auto;\">\n",
       "<table border=\"1\" class=\"dataframe\">\n",
       "  <thead>\n",
       "    <tr style=\"text-align: right;\">\n",
       "      <th></th>\n",
       "      <th>Male</th>\n",
       "      <th>Confidence</th>\n",
       "      <th>Total</th>\n",
       "      <th>Name</th>\n",
       "      <th>Female</th>\n",
       "    </tr>\n",
       "    <tr>\n",
       "      <th>Gender</th>\n",
       "      <th></th>\n",
       "      <th></th>\n",
       "      <th></th>\n",
       "      <th></th>\n",
       "      <th></th>\n",
       "    </tr>\n",
       "  </thead>\n",
       "  <tbody>\n",
       "    <tr>\n",
       "      <th>F</th>\n",
       "      <td> 0.119860</td>\n",
       "      <td> 0.880140</td>\n",
       "      <td> 2142817</td>\n",
       "      <td> 89</td>\n",
       "      <td> 0.880140</td>\n",
       "    </tr>\n",
       "    <tr>\n",
       "      <th>M</th>\n",
       "      <td> 0.877389</td>\n",
       "      <td> 0.877389</td>\n",
       "      <td>  898031</td>\n",
       "      <td> 75</td>\n",
       "      <td> 0.122611</td>\n",
       "    </tr>\n",
       "  </tbody>\n",
       "</table>\n",
       "</div>"
      ],
      "text/plain": [
       "            Male  Confidence    Total  Name    Female\n",
       "Gender                                               \n",
       "F       0.119860    0.880140  2142817    89  0.880140\n",
       "M       0.877389    0.877389   898031    75  0.122611"
      ]
     },
     "execution_count": 294,
     "metadata": {},
     "output_type": "execute_result"
    }
   ],
   "source": [
    "df_test.groupby(\"Gender\").agg({\"Name\": len, \"Total\": sum, \"Female\": np.mean, \"Male\": np.mean, \"Confidence\": np.mean})"
   ]
  },
  {
   "cell_type": "code",
   "execution_count": 296,
   "metadata": {
    "collapsed": true
   },
   "outputs": [],
   "source": [
    "X_test = feature_all.transform(df_test[\"Mod_Name\"])\n",
    "y_test = labels.transform(df_test[\"Gender\"])\n",
    "y_test[y_test[:,0] == 0] = -1"
   ]
  },
  {
   "cell_type": "code",
   "execution_count": 299,
   "metadata": {
    "collapsed": false
   },
   "outputs": [
    {
     "data": {
      "text/plain": [
       "array([[ 1],\n",
       "       [-1],\n",
       "       [ 1],\n",
       "       [-1],\n",
       "       [-1],\n",
       "       [-1],\n",
       "       [-1],\n",
       "       [ 1],\n",
       "       [ 1],\n",
       "       [-1]])"
      ]
     },
     "execution_count": 299,
     "metadata": {},
     "output_type": "execute_result"
    }
   ],
   "source": [
    "y_test[:10,:]"
   ]
  },
  {
   "cell_type": "code",
   "execution_count": 301,
   "metadata": {
    "collapsed": false
   },
   "outputs": [
    {
     "name": "stdout",
     "output_type": "stream",
     "text": [
      "(164, 7)\n"
     ]
    },
    {
     "data": {
      "text/html": [
       "<div style=\"max-height:1000px;max-width:1500px;overflow:auto;\">\n",
       "<table border=\"1\" class=\"dataframe\">\n",
       "  <thead>\n",
       "    <tr style=\"text-align: right;\">\n",
       "      <th></th>\n",
       "      <th>Name</th>\n",
       "      <th>Total</th>\n",
       "      <th>Female</th>\n",
       "      <th>Male</th>\n",
       "      <th>Confidence</th>\n",
       "      <th>Gender</th>\n",
       "      <th>Mod_Name</th>\n",
       "    </tr>\n",
       "  </thead>\n",
       "  <tbody>\n",
       "    <tr>\n",
       "      <th>28937</th>\n",
       "      <td>   Sawyer</td>\n",
       "      <td> 25745</td>\n",
       "      <td> 0.100058</td>\n",
       "      <td> 0.899942</td>\n",
       "      <td> 0.899942</td>\n",
       "      <td> M</td>\n",
       "      <td>   ^Sawyer$</td>\n",
       "    </tr>\n",
       "    <tr>\n",
       "      <th>28938</th>\n",
       "      <td>   Nikita</td>\n",
       "      <td>  8744</td>\n",
       "      <td> 0.899931</td>\n",
       "      <td> 0.100069</td>\n",
       "      <td> 0.899931</td>\n",
       "      <td> F</td>\n",
       "      <td>   ^Nikita$</td>\n",
       "    </tr>\n",
       "    <tr>\n",
       "      <th>28939</th>\n",
       "      <td>   Caelan</td>\n",
       "      <td>   714</td>\n",
       "      <td> 0.100840</td>\n",
       "      <td> 0.899160</td>\n",
       "      <td> 0.899160</td>\n",
       "      <td> M</td>\n",
       "      <td>   ^Caelan$</td>\n",
       "    </tr>\n",
       "    <tr>\n",
       "      <th>28940</th>\n",
       "      <td> Sheridan</td>\n",
       "      <td>  2823</td>\n",
       "      <td> 0.899044</td>\n",
       "      <td> 0.100956</td>\n",
       "      <td> 0.899044</td>\n",
       "      <td> F</td>\n",
       "      <td> ^Sheridan$</td>\n",
       "    </tr>\n",
       "    <tr>\n",
       "      <th>28941</th>\n",
       "      <td>    Ottie</td>\n",
       "      <td>    99</td>\n",
       "      <td> 0.898990</td>\n",
       "      <td> 0.101010</td>\n",
       "      <td> 0.898990</td>\n",
       "      <td> F</td>\n",
       "      <td>    ^Ottie$</td>\n",
       "    </tr>\n",
       "  </tbody>\n",
       "</table>\n",
       "</div>"
      ],
      "text/plain": [
       "           Name  Total    Female      Male  Confidence Gender    Mod_Name\n",
       "28937    Sawyer  25745  0.100058  0.899942    0.899942      M    ^Sawyer$\n",
       "28938    Nikita   8744  0.899931  0.100069    0.899931      F    ^Nikita$\n",
       "28939    Caelan    714  0.100840  0.899160    0.899160      M    ^Caelan$\n",
       "28940  Sheridan   2823  0.899044  0.100956    0.899044      F  ^Sheridan$\n",
       "28941     Ottie     99  0.898990  0.101010    0.898990      F     ^Ottie$"
      ]
     },
     "execution_count": 301,
     "metadata": {},
     "output_type": "execute_result"
    }
   ],
   "source": [
    "print df_test.shape\n",
    "df_test.head()"
   ]
  },
  {
   "cell_type": "code",
   "execution_count": 300,
   "metadata": {
    "collapsed": false
   },
   "outputs": [
    {
     "name": "stdout",
     "output_type": "stream",
     "text": [
      "164/164 [==============================] - 0s     \n"
     ]
    },
    {
     "data": {
      "text/plain": [
       "[0.86797289785919429, 1.0]"
      ]
     },
     "execution_count": 300,
     "metadata": {},
     "output_type": "execute_result"
    }
   ],
   "source": [
    "model.evaluate(X_test.toarray(), y_test, batch_size=100, show_accuracy=True)"
   ]
  },
  {
   "cell_type": "code",
   "execution_count": 417,
   "metadata": {
    "collapsed": false
   },
   "outputs": [
    {
     "data": {
      "text/html": [
       "<div style=\"max-height:1000px;max-width:1500px;overflow:auto;\">\n",
       "<table border=\"1\" class=\"dataframe\">\n",
       "  <thead>\n",
       "    <tr style=\"text-align: right;\">\n",
       "      <th></th>\n",
       "      <th>Name</th>\n",
       "      <th>score</th>\n",
       "      <th>Gender</th>\n",
       "      <th>Gender_SVM</th>\n",
       "    </tr>\n",
       "  </thead>\n",
       "  <tbody>\n",
       "    <tr>\n",
       "      <th>0 </th>\n",
       "      <td>   ^Shivangi$</td>\n",
       "      <td>-0.227140</td>\n",
       "      <td> F</td>\n",
       "      <td> F</td>\n",
       "    </tr>\n",
       "    <tr>\n",
       "      <th>1 </th>\n",
       "      <td>     ^Pushpa$</td>\n",
       "      <td>-0.826976</td>\n",
       "      <td> F</td>\n",
       "      <td> F</td>\n",
       "    </tr>\n",
       "    <tr>\n",
       "      <th>2 </th>\n",
       "      <td>    ^Kshitij$</td>\n",
       "      <td> 0.943411</td>\n",
       "      <td> M</td>\n",
       "      <td> M</td>\n",
       "    </tr>\n",
       "    <tr>\n",
       "      <th>3 </th>\n",
       "      <td>       ^Jana$</td>\n",
       "      <td>-0.993774</td>\n",
       "      <td> F</td>\n",
       "      <td> F</td>\n",
       "    </tr>\n",
       "    <tr>\n",
       "      <th>4 </th>\n",
       "      <td>      ^Vetle$</td>\n",
       "      <td>-0.850577</td>\n",
       "      <td> F</td>\n",
       "      <td> F</td>\n",
       "    </tr>\n",
       "    <tr>\n",
       "      <th>5 </th>\n",
       "      <td>    ^Ingvald$</td>\n",
       "      <td> 0.955292</td>\n",
       "      <td> M</td>\n",
       "      <td> M</td>\n",
       "    </tr>\n",
       "    <tr>\n",
       "      <th>6 </th>\n",
       "      <td>    ^Shankar$</td>\n",
       "      <td> 0.620609</td>\n",
       "      <td> M</td>\n",
       "      <td> M</td>\n",
       "    </tr>\n",
       "    <tr>\n",
       "      <th>7 </th>\n",
       "      <td>     ^Vishnu$</td>\n",
       "      <td> 0.699970</td>\n",
       "      <td> M</td>\n",
       "      <td> M</td>\n",
       "    </tr>\n",
       "    <tr>\n",
       "      <th>8 </th>\n",
       "      <td>       ^Mala$</td>\n",
       "      <td>-0.988562</td>\n",
       "      <td> F</td>\n",
       "      <td> F</td>\n",
       "    </tr>\n",
       "    <tr>\n",
       "      <th>9 </th>\n",
       "      <td>    ^Jagdish$</td>\n",
       "      <td> 0.869108</td>\n",
       "      <td> M</td>\n",
       "      <td> M</td>\n",
       "    </tr>\n",
       "    <tr>\n",
       "      <th>10</th>\n",
       "      <td>       ^Ming$</td>\n",
       "      <td> 0.846564</td>\n",
       "      <td> M</td>\n",
       "      <td> M</td>\n",
       "    </tr>\n",
       "    <tr>\n",
       "      <th>11</th>\n",
       "      <td>     ^Julian$</td>\n",
       "      <td> 0.950975</td>\n",
       "      <td> M</td>\n",
       "      <td> M</td>\n",
       "    </tr>\n",
       "    <tr>\n",
       "      <th>12</th>\n",
       "      <td>      ^Shadi$</td>\n",
       "      <td>-0.767389</td>\n",
       "      <td> F</td>\n",
       "      <td> F</td>\n",
       "    </tr>\n",
       "    <tr>\n",
       "      <th>13</th>\n",
       "      <td>    ^Rezvane$</td>\n",
       "      <td>-0.646504</td>\n",
       "      <td> F</td>\n",
       "      <td> M</td>\n",
       "    </tr>\n",
       "    <tr>\n",
       "      <th>14</th>\n",
       "      <td>   ^Rezvaneh$</td>\n",
       "      <td> 0.573794</td>\n",
       "      <td> M</td>\n",
       "      <td> M</td>\n",
       "    </tr>\n",
       "    <tr>\n",
       "      <th>15</th>\n",
       "      <td>       ^Amir$</td>\n",
       "      <td> 0.969788</td>\n",
       "      <td> M</td>\n",
       "      <td> M</td>\n",
       "    </tr>\n",
       "    <tr>\n",
       "      <th>16</th>\n",
       "      <td>  ^Motahhare$</td>\n",
       "      <td>-0.355732</td>\n",
       "      <td> F</td>\n",
       "      <td> M</td>\n",
       "    </tr>\n",
       "    <tr>\n",
       "      <th>17</th>\n",
       "      <td>  ^Motahareh$</td>\n",
       "      <td> 0.481796</td>\n",
       "      <td> M</td>\n",
       "      <td> M</td>\n",
       "    </tr>\n",
       "    <tr>\n",
       "      <th>18</th>\n",
       "      <td>    ^Enchuan$</td>\n",
       "      <td> 0.978650</td>\n",
       "      <td> M</td>\n",
       "      <td> M</td>\n",
       "    </tr>\n",
       "    <tr>\n",
       "      <th>19</th>\n",
       "      <td>        ^Ada$</td>\n",
       "      <td>-0.968598</td>\n",
       "      <td> F</td>\n",
       "      <td> F</td>\n",
       "    </tr>\n",
       "    <tr>\n",
       "      <th>20</th>\n",
       "      <td>     ^Barack$</td>\n",
       "      <td> 0.984079</td>\n",
       "      <td> M</td>\n",
       "      <td> M</td>\n",
       "    </tr>\n",
       "    <tr>\n",
       "      <th>21</th>\n",
       "      <td>     ^Eugene$</td>\n",
       "      <td>-0.880628</td>\n",
       "      <td> F</td>\n",
       "      <td> M</td>\n",
       "    </tr>\n",
       "    <tr>\n",
       "      <th>22</th>\n",
       "      <td> ^Shubhanshu$</td>\n",
       "      <td> 0.442501</td>\n",
       "      <td> M</td>\n",
       "      <td> M</td>\n",
       "    </tr>\n",
       "    <tr>\n",
       "      <th>23</th>\n",
       "      <td>  ^Alankrita$</td>\n",
       "      <td>-0.991997</td>\n",
       "      <td> F</td>\n",
       "      <td> F</td>\n",
       "    </tr>\n",
       "    <tr>\n",
       "      <th>24</th>\n",
       "      <td>      ^Ridit$</td>\n",
       "      <td> 0.539555</td>\n",
       "      <td> M</td>\n",
       "      <td> F</td>\n",
       "    </tr>\n",
       "    <tr>\n",
       "      <th>25</th>\n",
       "      <td>    ^Reyansh$</td>\n",
       "      <td> 0.836857</td>\n",
       "      <td> M</td>\n",
       "      <td> M</td>\n",
       "    </tr>\n",
       "    <tr>\n",
       "      <th>26</th>\n",
       "      <td>    ^Agastya$</td>\n",
       "      <td>-0.986799</td>\n",
       "      <td> F</td>\n",
       "      <td> M</td>\n",
       "    </tr>\n",
       "    <tr>\n",
       "      <th>27</th>\n",
       "      <td>     ^Girish$</td>\n",
       "      <td> 0.530137</td>\n",
       "      <td> M</td>\n",
       "      <td> F</td>\n",
       "    </tr>\n",
       "    <tr>\n",
       "      <th>28</th>\n",
       "      <td>     ^Andrej$</td>\n",
       "      <td> 0.973759</td>\n",
       "      <td> M</td>\n",
       "      <td> M</td>\n",
       "    </tr>\n",
       "    <tr>\n",
       "      <th>29</th>\n",
       "      <td>    ^Jinseok$</td>\n",
       "      <td> 0.965697</td>\n",
       "      <td> M</td>\n",
       "      <td> M</td>\n",
       "    </tr>\n",
       "    <tr>\n",
       "      <th>30</th>\n",
       "      <td>    ^Harathi$</td>\n",
       "      <td>-0.358810</td>\n",
       "      <td> F</td>\n",
       "      <td> F</td>\n",
       "    </tr>\n",
       "    <tr>\n",
       "      <th>31</th>\n",
       "      <td>        ^Mae$</td>\n",
       "      <td>-0.859412</td>\n",
       "      <td> F</td>\n",
       "      <td> F</td>\n",
       "    </tr>\n",
       "    <tr>\n",
       "      <th>32</th>\n",
       "      <td>        ^Pei$</td>\n",
       "      <td>-0.642736</td>\n",
       "      <td> F</td>\n",
       "      <td> F</td>\n",
       "    </tr>\n",
       "    <tr>\n",
       "      <th>33</th>\n",
       "      <td>     ^Arijit$</td>\n",
       "      <td> 0.399005</td>\n",
       "      <td> M</td>\n",
       "      <td> M</td>\n",
       "    </tr>\n",
       "    <tr>\n",
       "      <th>34</th>\n",
       "      <td>       ^Ravi$</td>\n",
       "      <td> 0.091105</td>\n",
       "      <td> M</td>\n",
       "      <td> F</td>\n",
       "    </tr>\n",
       "    <tr>\n",
       "      <th>35</th>\n",
       "      <td>       ^Atul$</td>\n",
       "      <td> 0.841091</td>\n",
       "      <td> M</td>\n",
       "      <td> M</td>\n",
       "    </tr>\n",
       "    <tr>\n",
       "      <th>36</th>\n",
       "      <td>      ^Aseel$</td>\n",
       "      <td> 0.648571</td>\n",
       "      <td> M</td>\n",
       "      <td> M</td>\n",
       "    </tr>\n",
       "    <tr>\n",
       "      <th>37</th>\n",
       "      <td>      ^Vivek$</td>\n",
       "      <td> 0.969402</td>\n",
       "      <td> M</td>\n",
       "      <td> M</td>\n",
       "    </tr>\n",
       "    <tr>\n",
       "      <th>38</th>\n",
       "      <td>  ^Sudhanshu$</td>\n",
       "      <td> 0.327245</td>\n",
       "      <td> M</td>\n",
       "      <td> M</td>\n",
       "    </tr>\n",
       "    <tr>\n",
       "      <th>39</th>\n",
       "      <td>      ^Mansi$</td>\n",
       "      <td>-0.819851</td>\n",
       "      <td> F</td>\n",
       "      <td> F</td>\n",
       "    </tr>\n",
       "    <tr>\n",
       "      <th>40</th>\n",
       "      <td>   ^Harpreet$</td>\n",
       "      <td> 0.265200</td>\n",
       "      <td> M</td>\n",
       "      <td> F</td>\n",
       "    </tr>\n",
       "    <tr>\n",
       "      <th>41</th>\n",
       "      <td>       ^Hadi$</td>\n",
       "      <td> 0.011651</td>\n",
       "      <td> M</td>\n",
       "      <td> F</td>\n",
       "    </tr>\n",
       "    <tr>\n",
       "      <th>42</th>\n",
       "      <td>      ^Liang$</td>\n",
       "      <td> 0.705445</td>\n",
       "      <td> M</td>\n",
       "      <td> M</td>\n",
       "    </tr>\n",
       "    <tr>\n",
       "      <th>43</th>\n",
       "      <td>      ^Arpit$</td>\n",
       "      <td> 0.681785</td>\n",
       "      <td> M</td>\n",
       "      <td> M</td>\n",
       "    </tr>\n",
       "    <tr>\n",
       "      <th>44</th>\n",
       "      <td>   ^Geethika$</td>\n",
       "      <td>-0.995880</td>\n",
       "      <td> F</td>\n",
       "      <td> F</td>\n",
       "    </tr>\n",
       "    <tr>\n",
       "      <th>45</th>\n",
       "      <td>    ^Kiumars$</td>\n",
       "      <td> 0.924732</td>\n",
       "      <td> M</td>\n",
       "      <td> M</td>\n",
       "    </tr>\n",
       "    <tr>\n",
       "      <th>46</th>\n",
       "      <td>      ^Craig$</td>\n",
       "      <td> 0.915214</td>\n",
       "      <td> M</td>\n",
       "      <td> M</td>\n",
       "    </tr>\n",
       "    <tr>\n",
       "      <th>47</th>\n",
       "      <td>    ^Rituraj$</td>\n",
       "      <td> 0.908419</td>\n",
       "      <td> M</td>\n",
       "      <td> M</td>\n",
       "    </tr>\n",
       "    <tr>\n",
       "      <th>48</th>\n",
       "      <td>   ^Speranza$</td>\n",
       "      <td>-0.980747</td>\n",
       "      <td> F</td>\n",
       "      <td> F</td>\n",
       "    </tr>\n",
       "    <tr>\n",
       "      <th>49</th>\n",
       "      <td>  ^Constanta$</td>\n",
       "      <td>-0.055378</td>\n",
       "      <td> F</td>\n",
       "      <td> F</td>\n",
       "    </tr>\n",
       "    <tr>\n",
       "      <th>50</th>\n",
       "      <td>    ^Viorica$</td>\n",
       "      <td>-0.970364</td>\n",
       "      <td> F</td>\n",
       "      <td> F</td>\n",
       "    </tr>\n",
       "    <tr>\n",
       "      <th>51</th>\n",
       "      <td>   ^Hooriyah$</td>\n",
       "      <td>-0.961124</td>\n",
       "      <td> F</td>\n",
       "      <td> F</td>\n",
       "    </tr>\n",
       "    <tr>\n",
       "      <th>52</th>\n",
       "      <td>     ^Andrea$</td>\n",
       "      <td>-0.958352</td>\n",
       "      <td> F</td>\n",
       "      <td> F</td>\n",
       "    </tr>\n",
       "    <tr>\n",
       "      <th>53</th>\n",
       "      <td>        ^Jan$</td>\n",
       "      <td> 0.904542</td>\n",
       "      <td> M</td>\n",
       "      <td> M</td>\n",
       "    </tr>\n",
       "    <tr>\n",
       "      <th>54</th>\n",
       "      <td>   ^Jeanpaul$</td>\n",
       "      <td> 0.546834</td>\n",
       "      <td> M</td>\n",
       "      <td> M</td>\n",
       "    </tr>\n",
       "    <tr>\n",
       "      <th>55</th>\n",
       "      <td>  ^Josemaria$</td>\n",
       "      <td>-0.994517</td>\n",
       "      <td> F</td>\n",
       "      <td> F</td>\n",
       "    </tr>\n",
       "  </tbody>\n",
       "</table>\n",
       "</div>"
      ],
      "text/plain": [
       "            Name     score Gender Gender_SVM\n",
       "0     ^Shivangi$ -0.227140      F          F\n",
       "1       ^Pushpa$ -0.826976      F          F\n",
       "2      ^Kshitij$  0.943411      M          M\n",
       "3         ^Jana$ -0.993774      F          F\n",
       "4        ^Vetle$ -0.850577      F          F\n",
       "5      ^Ingvald$  0.955292      M          M\n",
       "6      ^Shankar$  0.620609      M          M\n",
       "7       ^Vishnu$  0.699970      M          M\n",
       "8         ^Mala$ -0.988562      F          F\n",
       "9      ^Jagdish$  0.869108      M          M\n",
       "10        ^Ming$  0.846564      M          M\n",
       "11      ^Julian$  0.950975      M          M\n",
       "12       ^Shadi$ -0.767389      F          F\n",
       "13     ^Rezvane$ -0.646504      F          M\n",
       "14    ^Rezvaneh$  0.573794      M          M\n",
       "15        ^Amir$  0.969788      M          M\n",
       "16   ^Motahhare$ -0.355732      F          M\n",
       "17   ^Motahareh$  0.481796      M          M\n",
       "18     ^Enchuan$  0.978650      M          M\n",
       "19         ^Ada$ -0.968598      F          F\n",
       "20      ^Barack$  0.984079      M          M\n",
       "21      ^Eugene$ -0.880628      F          M\n",
       "22  ^Shubhanshu$  0.442501      M          M\n",
       "23   ^Alankrita$ -0.991997      F          F\n",
       "24       ^Ridit$  0.539555      M          F\n",
       "25     ^Reyansh$  0.836857      M          M\n",
       "26     ^Agastya$ -0.986799      F          M\n",
       "27      ^Girish$  0.530137      M          F\n",
       "28      ^Andrej$  0.973759      M          M\n",
       "29     ^Jinseok$  0.965697      M          M\n",
       "30     ^Harathi$ -0.358810      F          F\n",
       "31         ^Mae$ -0.859412      F          F\n",
       "32         ^Pei$ -0.642736      F          F\n",
       "33      ^Arijit$  0.399005      M          M\n",
       "34        ^Ravi$  0.091105      M          F\n",
       "35        ^Atul$  0.841091      M          M\n",
       "36       ^Aseel$  0.648571      M          M\n",
       "37       ^Vivek$  0.969402      M          M\n",
       "38   ^Sudhanshu$  0.327245      M          M\n",
       "39       ^Mansi$ -0.819851      F          F\n",
       "40    ^Harpreet$  0.265200      M          F\n",
       "41        ^Hadi$  0.011651      M          F\n",
       "42       ^Liang$  0.705445      M          M\n",
       "43       ^Arpit$  0.681785      M          M\n",
       "44    ^Geethika$ -0.995880      F          F\n",
       "45     ^Kiumars$  0.924732      M          M\n",
       "46       ^Craig$  0.915214      M          M\n",
       "47     ^Rituraj$  0.908419      M          M\n",
       "48    ^Speranza$ -0.980747      F          F\n",
       "49   ^Constanta$ -0.055378      F          F\n",
       "50     ^Viorica$ -0.970364      F          F\n",
       "51    ^Hooriyah$ -0.961124      F          F\n",
       "52      ^Andrea$ -0.958352      F          F\n",
       "53         ^Jan$  0.904542      M          M\n",
       "54    ^Jeanpaul$  0.546834      M          M\n",
       "55   ^Josemaria$ -0.994517      F          F"
      ]
     },
     "execution_count": 417,
     "metadata": {},
     "output_type": "execute_result"
    }
   ],
   "source": [
    "test_names = [\"^Shivangi$\", \"^Pushpa$\", \"^Kshitij$\", \"^Jana$\", \"^Vetle$\",\n",
    "              \"^Ingvald$\",\"^Shankar$\", \"^Vishnu$\", \"^Mala$\", \"^Jagdish$\",\n",
    "             \"^Ming$\", \"^Julian$\", \"^Shadi$\", \"^Rezvane$\", \"^Rezvaneh$\",\n",
    "              \"^Amir$\", \"^Motahhare$\", \"^Motahareh$\", \"^Enchuan$\", \"^Ada$\",\n",
    "             \"^Barack$\", \"^Eugene$\", \"^Shubhanshu$\", \"^Alankrita$\", \"^Ridit$\",\n",
    "             \"^Reyansh$\", \"^Agastya$\", \"^Girish$\", \"^Andrej$\", \"^Jinseok$\", \n",
    "             \"^Harathi$\", \"^Mae$\", \"^Pei$\", \"^Arijit$\", \"^Ravi$\", \"^Atul$\", \"^Aseel$\",\n",
    "             \"^Vivek$\", \"^Sudhanshu$\", \"^Mansi$\", \"^Harpreet$\", \"^Hadi$\", \"^Liang$\",\n",
    "             \"^Arpit$\", \"^Geethika$\", \"^Kiumars$\", \"^Craig$\", \"^Rituraj$\", \"^Speranza$\",\n",
    "             \"^Constanta$\", \"^Viorica$\", \"^Hooriyah$\", \"^Andrea$\", \"^Jan$\", \"^Jeanpaul$\",\n",
    "             \"^Josemaria$\"]\n",
    "output_lbl = model.predict(feature_all.transform(pd.Series(data=test_names)).toarray())\n",
    "df_output = pd.DataFrame(data={\"Name\": test_names, \"score\": output_lbl[:, 0]})\n",
    "df_output[\"Gender\"] = df_output[\"score\"].apply(lambda x: \"F\" if x < 0 else \"M\")\n",
    "df_output[\"Gender_SVM\"] = clf.predict(feature_all.transform(pd.Series(data=test_names)))\n",
    "df_output"
   ]
  },
  {
   "cell_type": "code",
   "execution_count": 331,
   "metadata": {
    "collapsed": false
   },
   "outputs": [],
   "source": [
    "model.save_weights(\"Gender.09242015.h5\")"
   ]
  },
  {
   "cell_type": "code",
   "execution_count": 403,
   "metadata": {
    "collapsed": false
   },
   "outputs": [
    {
     "data": {
      "text/html": [
       "<div style=\"max-height:1000px;max-width:1500px;overflow:auto;\">\n",
       "<table border=\"1\" class=\"dataframe\">\n",
       "  <thead>\n",
       "    <tr style=\"text-align: right;\">\n",
       "      <th></th>\n",
       "      <th>Name</th>\n",
       "      <th>Total</th>\n",
       "      <th>Female</th>\n",
       "      <th>Male</th>\n",
       "      <th>Confidence</th>\n",
       "      <th>Gender</th>\n",
       "      <th>Mod_Name</th>\n",
       "    </tr>\n",
       "  </thead>\n",
       "  <tbody>\n",
       "  </tbody>\n",
       "</table>\n",
       "</div>"
      ],
      "text/plain": [
       "Empty DataFrame\n",
       "Columns: [Name, Total, Female, Male, Confidence, Gender, Mod_Name]\n",
       "Index: []"
      ]
     },
     "execution_count": 403,
     "metadata": {},
     "output_type": "execute_result"
    }
   ],
   "source": [
    "df_fm[df[\"Name\"] == \"Viorica\".title()]"
   ]
  },
  {
   "cell_type": "code",
   "execution_count": 416,
   "metadata": {
    "collapsed": false
   },
   "outputs": [
    {
     "data": {
      "text/html": [
       "<div style=\"max-height:1000px;max-width:1500px;overflow:auto;\">\n",
       "<table border=\"1\" class=\"dataframe\">\n",
       "  <thead>\n",
       "    <tr style=\"text-align: right;\">\n",
       "      <th></th>\n",
       "      <th>Name</th>\n",
       "      <th>Total</th>\n",
       "      <th>Female</th>\n",
       "      <th>Male</th>\n",
       "      <th>Confidence</th>\n",
       "      <th>Gender</th>\n",
       "    </tr>\n",
       "  </thead>\n",
       "  <tbody>\n",
       "    <tr>\n",
       "      <th>6516</th>\n",
       "      <td> Josemaria</td>\n",
       "      <td> 215</td>\n",
       "      <td> 0</td>\n",
       "      <td> 1</td>\n",
       "      <td> 1</td>\n",
       "      <td> M</td>\n",
       "    </tr>\n",
       "  </tbody>\n",
       "</table>\n",
       "</div>"
      ],
      "text/plain": [
       "           Name  Total  Female  Male  Confidence Gender\n",
       "6516  Josemaria    215       0     1           1      M"
      ]
     },
     "execution_count": 416,
     "metadata": {},
     "output_type": "execute_result"
    }
   ],
   "source": [
    "df[df[\"Name\"] == \"Josemaria\"].head()"
   ]
  },
  {
   "cell_type": "code",
   "execution_count": null,
   "metadata": {
    "collapsed": true
   },
   "outputs": [],
   "source": []
  }
 ],
 "metadata": {
  "kernelspec": {
   "display_name": "Python 2",
   "language": "python",
   "name": "python2"
  },
  "language_info": {
   "codemirror_mode": {
    "name": "ipython",
    "version": 2
   },
   "file_extension": ".py",
   "mimetype": "text/x-python",
   "name": "python",
   "nbconvert_exporter": "python",
   "pygments_lexer": "ipython2",
   "version": "2.7.6"
  }
 },
 "nbformat": 4,
 "nbformat_minor": 0
}
